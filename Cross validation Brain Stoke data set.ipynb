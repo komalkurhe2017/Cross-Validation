{
 "cells": [
  {
   "cell_type": "code",
   "execution_count": 1,
   "id": "02d9d1e8",
   "metadata": {},
   "outputs": [],
   "source": [
    "import pandas as pd\n",
    "import numpy as np\n",
    "import seaborn as sns\n"
   ]
  },
  {
   "cell_type": "code",
   "execution_count": 2,
   "id": "39360647",
   "metadata": {},
   "outputs": [],
   "source": [
    "data=pd.read_csv(r\"D:/MLAI/dataset/Brain Stroke.csv\")"
   ]
  },
  {
   "cell_type": "code",
   "execution_count": 3,
   "id": "6ee1bad6",
   "metadata": {},
   "outputs": [
    {
     "data": {
      "text/html": [
       "<div>\n",
       "<style scoped>\n",
       "    .dataframe tbody tr th:only-of-type {\n",
       "        vertical-align: middle;\n",
       "    }\n",
       "\n",
       "    .dataframe tbody tr th {\n",
       "        vertical-align: top;\n",
       "    }\n",
       "\n",
       "    .dataframe thead th {\n",
       "        text-align: right;\n",
       "    }\n",
       "</style>\n",
       "<table border=\"1\" class=\"dataframe\">\n",
       "  <thead>\n",
       "    <tr style=\"text-align: right;\">\n",
       "      <th></th>\n",
       "      <th>gender</th>\n",
       "      <th>age</th>\n",
       "      <th>hypertension</th>\n",
       "      <th>heart_disease</th>\n",
       "      <th>ever_married</th>\n",
       "      <th>work_type</th>\n",
       "      <th>Residence_type</th>\n",
       "      <th>avg_glucose_level</th>\n",
       "      <th>bmi</th>\n",
       "      <th>smoking_status</th>\n",
       "      <th>stroke</th>\n",
       "    </tr>\n",
       "  </thead>\n",
       "  <tbody>\n",
       "    <tr>\n",
       "      <th>0</th>\n",
       "      <td>Male</td>\n",
       "      <td>67.0</td>\n",
       "      <td>0</td>\n",
       "      <td>1</td>\n",
       "      <td>Yes</td>\n",
       "      <td>Private</td>\n",
       "      <td>Urban</td>\n",
       "      <td>228.69</td>\n",
       "      <td>36.6</td>\n",
       "      <td>formerly smoked</td>\n",
       "      <td>1</td>\n",
       "    </tr>\n",
       "    <tr>\n",
       "      <th>1</th>\n",
       "      <td>Male</td>\n",
       "      <td>80.0</td>\n",
       "      <td>0</td>\n",
       "      <td>1</td>\n",
       "      <td>Yes</td>\n",
       "      <td>Private</td>\n",
       "      <td>Rural</td>\n",
       "      <td>105.92</td>\n",
       "      <td>32.5</td>\n",
       "      <td>never smoked</td>\n",
       "      <td>1</td>\n",
       "    </tr>\n",
       "    <tr>\n",
       "      <th>2</th>\n",
       "      <td>Female</td>\n",
       "      <td>49.0</td>\n",
       "      <td>0</td>\n",
       "      <td>0</td>\n",
       "      <td>Yes</td>\n",
       "      <td>Private</td>\n",
       "      <td>Urban</td>\n",
       "      <td>171.23</td>\n",
       "      <td>34.4</td>\n",
       "      <td>smokes</td>\n",
       "      <td>1</td>\n",
       "    </tr>\n",
       "    <tr>\n",
       "      <th>3</th>\n",
       "      <td>Female</td>\n",
       "      <td>79.0</td>\n",
       "      <td>1</td>\n",
       "      <td>0</td>\n",
       "      <td>Yes</td>\n",
       "      <td>Self-employed</td>\n",
       "      <td>Rural</td>\n",
       "      <td>174.12</td>\n",
       "      <td>24.0</td>\n",
       "      <td>never smoked</td>\n",
       "      <td>1</td>\n",
       "    </tr>\n",
       "    <tr>\n",
       "      <th>4</th>\n",
       "      <td>Male</td>\n",
       "      <td>81.0</td>\n",
       "      <td>0</td>\n",
       "      <td>0</td>\n",
       "      <td>Yes</td>\n",
       "      <td>Private</td>\n",
       "      <td>Urban</td>\n",
       "      <td>186.21</td>\n",
       "      <td>29.0</td>\n",
       "      <td>formerly smoked</td>\n",
       "      <td>1</td>\n",
       "    </tr>\n",
       "  </tbody>\n",
       "</table>\n",
       "</div>"
      ],
      "text/plain": [
       "   gender   age  hypertension  heart_disease ever_married      work_type  \\\n",
       "0    Male  67.0             0              1          Yes        Private   \n",
       "1    Male  80.0             0              1          Yes        Private   \n",
       "2  Female  49.0             0              0          Yes        Private   \n",
       "3  Female  79.0             1              0          Yes  Self-employed   \n",
       "4    Male  81.0             0              0          Yes        Private   \n",
       "\n",
       "  Residence_type  avg_glucose_level   bmi   smoking_status  stroke  \n",
       "0          Urban             228.69  36.6  formerly smoked       1  \n",
       "1          Rural             105.92  32.5     never smoked       1  \n",
       "2          Urban             171.23  34.4           smokes       1  \n",
       "3          Rural             174.12  24.0     never smoked       1  \n",
       "4          Urban             186.21  29.0  formerly smoked       1  "
      ]
     },
     "execution_count": 3,
     "metadata": {},
     "output_type": "execute_result"
    }
   ],
   "source": [
    "data.head()"
   ]
  },
  {
   "cell_type": "code",
   "execution_count": 4,
   "id": "091bca1c",
   "metadata": {},
   "outputs": [
    {
     "data": {
      "text/plain": [
       "(4981, 11)"
      ]
     },
     "execution_count": 4,
     "metadata": {},
     "output_type": "execute_result"
    }
   ],
   "source": [
    "data.shape"
   ]
  },
  {
   "cell_type": "code",
   "execution_count": 5,
   "id": "ee0db1dd",
   "metadata": {},
   "outputs": [
    {
     "data": {
      "text/plain": [
       "gender               0\n",
       "age                  0\n",
       "hypertension         0\n",
       "heart_disease        0\n",
       "ever_married         0\n",
       "work_type            0\n",
       "Residence_type       0\n",
       "avg_glucose_level    0\n",
       "bmi                  0\n",
       "smoking_status       0\n",
       "stroke               0\n",
       "dtype: int64"
      ]
     },
     "execution_count": 5,
     "metadata": {},
     "output_type": "execute_result"
    }
   ],
   "source": [
    "data.isna().sum()"
   ]
  },
  {
   "cell_type": "code",
   "execution_count": 6,
   "id": "b8a46e0c",
   "metadata": {},
   "outputs": [
    {
     "data": {
      "text/plain": [
       "0    4733\n",
       "1     248\n",
       "Name: stroke, dtype: int64"
      ]
     },
     "execution_count": 6,
     "metadata": {},
     "output_type": "execute_result"
    }
   ],
   "source": [
    "data.stroke.value_counts()"
   ]
  },
  {
   "cell_type": "code",
   "execution_count": 7,
   "id": "efdb0acb",
   "metadata": {},
   "outputs": [],
   "source": [
    "x=data.iloc[:,[1,2,3,7,8]]\n",
    "y=data.iloc[:,-1]"
   ]
  },
  {
   "cell_type": "markdown",
   "id": "66608d3f",
   "metadata": {},
   "source": [
    "# Data Imbalancing"
   ]
  },
  {
   "cell_type": "code",
   "execution_count": 8,
   "id": "c331fb8f",
   "metadata": {},
   "outputs": [
    {
     "name": "stdout",
     "output_type": "stream",
     "text": [
      "Counter({1: 4733, 0: 4733})\n"
     ]
    }
   ],
   "source": [
    "from imblearn.over_sampling import RandomOverSampler\n",
    "from collections import Counter\n",
    "ro=RandomOverSampler()\n",
    "x_resample,y_resample=ro.fit_resample(x,y)\n",
    "print(Counter(y_resample))"
   ]
  },
  {
   "cell_type": "markdown",
   "id": "214a7dcd",
   "metadata": {},
   "source": [
    "# Feature Scaling by StandardScaler()\n"
   ]
  },
  {
   "cell_type": "code",
   "execution_count": 9,
   "id": "bdbb0673",
   "metadata": {},
   "outputs": [
    {
     "data": {
      "text/plain": [
       "array([[ 0.53171127, -0.46182101,  2.75355206,  1.98206843,  1.16705102],\n",
       "       [ 1.11276875, -0.46182101,  2.75355206, -0.23049499,  0.51466365],\n",
       "       [-0.27282985, -0.46182101, -0.36316728,  0.94652315,  0.8169895 ],\n",
       "       ...,\n",
       "       [ 0.48701454, -0.46182101, -0.36316728,  0.5848212 , -0.2809307 ],\n",
       "       [ 1.06807202,  2.16534106,  2.75355206, -1.04112547, -0.07407617],\n",
       "       [ 1.02337529, -0.46182101, -0.36316728, -1.04599141, -0.34457825]])"
      ]
     },
     "execution_count": 9,
     "metadata": {},
     "output_type": "execute_result"
    }
   ],
   "source": [
    "# Feature Scaling by StandardScaler()\n",
    "from sklearn.preprocessing import StandardScaler\n",
    "ss=StandardScaler()\n",
    "x_data=ss.fit_transform(x_resample)\n",
    "x_data"
   ]
  },
  {
   "cell_type": "code",
   "execution_count": 10,
   "id": "53fb5510",
   "metadata": {},
   "outputs": [],
   "source": [
    "y_data=y_resample"
   ]
  },
  {
   "cell_type": "markdown",
   "id": "3f05f64e",
   "metadata": {},
   "source": [
    "# slpit data into train and test\n"
   ]
  },
  {
   "cell_type": "code",
   "execution_count": 11,
   "id": "b673e6fe",
   "metadata": {},
   "outputs": [],
   "source": [
    "from sklearn.model_selection import train_test_split\n",
    "x_train,x_test,y_train,y_test=train_test_split(x_data,y_data,test_size=0.2,random_state=100)\n"
   ]
  },
  {
   "cell_type": "code",
   "execution_count": 12,
   "id": "d793f2f0",
   "metadata": {},
   "outputs": [
    {
     "name": "stdout",
     "output_type": "stream",
     "text": [
      "Counter({0: 3792, 1: 3780})\n",
      "Counter({1: 953, 0: 941})\n"
     ]
    }
   ],
   "source": [
    "print(Counter(y_train))\n",
    "print(Counter(y_test))"
   ]
  },
  {
   "cell_type": "markdown",
   "id": "e9da235f",
   "metadata": {},
   "source": [
    "# Model Imbalancing--> Cross_validation\n"
   ]
  },
  {
   "cell_type": "code",
   "execution_count": 13,
   "id": "e5d342d0",
   "metadata": {},
   "outputs": [
    {
     "name": "stdout",
     "output_type": "stream",
     "text": [
      "KFold(n_splits=5, random_state=100, shuffle=True)\n"
     ]
    }
   ],
   "source": [
    "from sklearn.model_selection import KFold\n",
    "kf=KFold(n_splits=5,random_state=100,shuffle=True)\n",
    "kf.get_n_splits(x_data)\n",
    "print(kf)"
   ]
  },
  {
   "cell_type": "code",
   "execution_count": 14,
   "id": "c82ed65b",
   "metadata": {},
   "outputs": [],
   "source": [
    "from sklearn.model_selection import cross_val_score\n",
    "from sklearn.model_selection import cross_val_predict\n",
    "from sklearn.linear_model import LogisticRegression\n",
    "l1=LogisticRegression()"
   ]
  },
  {
   "cell_type": "code",
   "execution_count": 15,
   "id": "a7e9a9b6",
   "metadata": {},
   "outputs": [
    {
     "name": "stdout",
     "output_type": "stream",
     "text": [
      "[0.76369637 0.75709571 0.78335535 0.78137384 0.77873184]\n",
      "[0 1 1 ... 0 0 1]\n"
     ]
    }
   ],
   "source": [
    "#without Iteration based cross validation\n",
    "scores=cross_val_score(l1,x_train,y_train,cv=kf)\n",
    "y_pred=cross_val_predict(l1,x_test,y_test,cv=kf)\n",
    "print(scores)\n",
    "print(y_pred)"
   ]
  },
  {
   "cell_type": "code",
   "execution_count": 16,
   "id": "2a2c8ea6",
   "metadata": {},
   "outputs": [
    {
     "name": "stdout",
     "output_type": "stream",
     "text": [
      "Checking Balancing y test........ Counter({1: 953, 0: 941})\n",
      "[1 0 1 ... 0 1 1]\n",
      "[0.7669967  0.76963696 0.76486129 0.76420079 0.7985469 ]\n",
      "77.2848529238657\n",
      "Checking Balancing y test........ Counter({0: 969, 1: 924})\n",
      "[1 1 1 ... 1 1 1]\n",
      "[0.76237624 0.7689769  0.76237624 0.77675033 0.75693527]\n",
      "76.54829947988193\n",
      "Checking Balancing y test........ Counter({1: 957, 0: 936})\n",
      "[1 1 1 ... 1 1 1]\n",
      "[0.78745875 0.74455446 0.78415842 0.74768824 0.77873184]\n",
      "76.85183392843908\n",
      "Checking Balancing y test........ Counter({0: 947, 1: 946})\n",
      "[1 1 1 ... 1 1 1]\n",
      "[0.78085809 0.78481848 0.76567657 0.77146631 0.7681638 ]\n",
      "77.41966508407776\n",
      "Checking Balancing y test........ Counter({1: 953, 0: 940})\n",
      "[0 1 1 ... 1 1 1]\n",
      "[0.76435644 0.76237624 0.77755776 0.75759577 0.79524439]\n",
      "77.1426117512676\n"
     ]
    }
   ],
   "source": [
    "kx_train_data=[]\n",
    "kx_test_data=[]\n",
    "ky_train_data=[]\n",
    "ky_test_data=[]\n",
    "for train_data,test_data in kf.split(x_data):\n",
    "    x_train,x_test=x_data[train_data],x_data[test_data]\n",
    "    y_train,y_test=y_data[train_data],y_data[test_data]\n",
    "    scores=cross_val_score(l1,x_train,y_train,cv=kf)\n",
    "    y_pred=cross_val_predict(l1,x_test,y_test,cv=kf)\n",
    "    kx_train_data.append(x_train)\n",
    "    kx_test_data.append(x_test)\n",
    "    ky_train_data.append(y_train)\n",
    "    ky_test_data.append(y_test)\n",
    "    print(\"Checking Balancing y test........\",Counter(y_test))\n",
    "    print(y_pred)\n",
    "    print(scores)\n",
    "    print(np.mean(scores)*100)\n"
   ]
  },
  {
   "cell_type": "code",
   "execution_count": 17,
   "id": "d9a57a59",
   "metadata": {},
   "outputs": [
    {
     "name": "stdout",
     "output_type": "stream",
     "text": [
      "Checking y_test Balancing: Counter({1: 953, 0: 941})\n",
      "Checking y_train Balancing: Counter({0: 3792, 1: 3780})\n",
      "[0.7669967  0.76963696 0.76486129 0.76420079 0.7985469 ]\n",
      "-------------------------------------------------------\n",
      "Checking y_test Balancing: Counter({0: 969, 1: 924})\n",
      "Checking y_train Balancing: Counter({1: 3809, 0: 3764})\n",
      "[0.76237624 0.7689769  0.76237624 0.77675033 0.75693527]\n",
      "-------------------------------------------------------\n",
      "Checking y_test Balancing: Counter({1: 957, 0: 936})\n",
      "Checking y_train Balancing: Counter({0: 3797, 1: 3776})\n",
      "[0.78745875 0.74455446 0.78415842 0.74768824 0.77873184]\n",
      "-------------------------------------------------------\n",
      "Checking y_test Balancing: Counter({0: 947, 1: 946})\n",
      "Checking y_train Balancing: Counter({1: 3787, 0: 3786})\n",
      "[0.78085809 0.78481848 0.76567657 0.77146631 0.7681638 ]\n",
      "-------------------------------------------------------\n",
      "Checking y_test Balancing: Counter({1: 953, 0: 940})\n",
      "Checking y_train Balancing: Counter({0: 3793, 1: 3780})\n",
      "[0.76435644 0.76237624 0.77755776 0.75759577 0.79524439]\n",
      "-------------------------------------------------------\n"
     ]
    }
   ],
   "source": [
    "for train_data,test_data in kf.split(x_data,y_data):\n",
    "    x_train,x_test=x_data[train_data],x_data[test_data]\n",
    "    y_train,y_test=y_data[train_data],y_data[test_data]\n",
    "    scores=cross_val_score(l1,x_train,y_train,cv=kf)\n",
    "    y_pred=cross_val_predict(l1,x_test,y_test,cv=kf)\n",
    "    print(\"Checking y_test Balancing:\",Counter(y_test))\n",
    "    print(\"Checking y_train Balancing:\",Counter(y_train))\n",
    "    print(scores)\n",
    "    print(\"-------------------------------------------------------\")"
   ]
  },
  {
   "cell_type": "code",
   "execution_count": 18,
   "id": "ed380a78",
   "metadata": {},
   "outputs": [],
   "source": [
    "# 0: 955, 1: 42  --> 94.82\n",
    "# 0: 944, 1: 52  --> 95.08\n",
    "# 0: 954, 1: 42  --> 94.83\n",
    "# 0: 935, 1: 61  --> 95.30\n",
    "# 0: 945, 1: 51 --> 95.05"
   ]
  },
  {
   "cell_type": "markdown",
   "id": "c21f2389",
   "metadata": {},
   "source": [
    "# StratifiedKFold Cross Validation"
   ]
  },
  {
   "cell_type": "code",
   "execution_count": 19,
   "id": "6f14b71e",
   "metadata": {},
   "outputs": [
    {
     "name": "stdout",
     "output_type": "stream",
     "text": [
      "StratifiedKFold(n_splits=5, random_state=100, shuffle=True)\n"
     ]
    }
   ],
   "source": [
    "from sklearn.model_selection import StratifiedKFold\n",
    "skf=StratifiedKFold(n_splits=5,random_state=100,shuffle=True)\n",
    "skf.get_n_splits(x_data,y_data)\n",
    "print(skf)"
   ]
  },
  {
   "cell_type": "code",
   "execution_count": 20,
   "id": "ecc92915",
   "metadata": {},
   "outputs": [],
   "source": [
    "from sklearn.model_selection import cross_val_score\n",
    "from sklearn.model_selection import cross_val_predict\n",
    "from sklearn.linear_model import LogisticRegression\n",
    "l1=LogisticRegression()"
   ]
  },
  {
   "cell_type": "code",
   "execution_count": 21,
   "id": "417de93f",
   "metadata": {},
   "outputs": [
    {
     "name": "stdout",
     "output_type": "stream",
     "text": [
      "[0.78349835 0.75577558 0.78019802 0.7661823  0.78071334]\n",
      "[0 1 1 ... 1 1 1]\n"
     ]
    }
   ],
   "source": [
    "scores=cross_val_score(l1,x_train,y_train,cv=skf)\n",
    "y_pred=cross_val_predict(l1,x_test,y_test,cv=skf)\n",
    "print(scores)\n",
    "print(y_pred)"
   ]
  },
  {
   "cell_type": "code",
   "execution_count": 22,
   "id": "ef1ea92d",
   "metadata": {},
   "outputs": [
    {
     "name": "stdout",
     "output_type": "stream",
     "text": [
      "Checking Balancing.......: Counter({1: 953, 0: 940})\n",
      "[0 1 1 ... 1 1 1]\n",
      "[0.78349835 0.75577558 0.78019802 0.7661823  0.78071334]\n",
      "77.32735175763284\n",
      "Checking Balancing.......: Counter({1: 953, 0: 940})\n",
      "[0 1 1 ... 1 1 1]\n",
      "[0.78349835 0.75577558 0.78019802 0.7661823  0.78071334]\n",
      "77.32735175763284\n",
      "Checking Balancing.......: Counter({1: 953, 0: 940})\n",
      "[0 1 1 ... 1 1 1]\n",
      "[0.78349835 0.75577558 0.78019802 0.7661823  0.78071334]\n",
      "77.32735175763284\n",
      "Checking Balancing.......: Counter({1: 953, 0: 940})\n",
      "[0 1 1 ... 1 1 1]\n",
      "[0.78349835 0.75577558 0.78019802 0.7661823  0.78071334]\n",
      "77.32735175763284\n",
      "Checking Balancing.......: Counter({1: 953, 0: 940})\n",
      "[0 1 1 ... 1 1 1]\n",
      "[0.78349835 0.75577558 0.78019802 0.7661823  0.78071334]\n",
      "77.32735175763284\n"
     ]
    }
   ],
   "source": [
    "kx_train_data=[]\n",
    "kx_test_data=[]\n",
    "ky_train_data=[]\n",
    "ky_test_data=[]\n",
    "for train_data,test_data in skf.split(x_data,y_data):\n",
    "    x1_train,x1_test=x_data[train_data],x_data[test_data]\n",
    "    y1_train,y1_test=y_data[train_data],y_data[test_data] \n",
    "    scores=cross_val_score(l1,x_train,y_train,cv=skf)\n",
    "    y_pred=cross_val_predict(l1,x_test,y_test,cv=skf)\n",
    "    kx_train_data.append(x_train)\n",
    "    kx_test_data.append(x_test)\n",
    "    ky_train_data.append(y_train)\n",
    "    ky_test_data.append(y_test)\n",
    "    print(\"Checking Balancing.......:\",Counter(y_test))\n",
    "    print(y_pred)\n",
    "    print(scores)\n",
    "    print(np.mean(scores)*100)\n",
    "\n",
    "    "
   ]
  },
  {
   "cell_type": "code",
   "execution_count": 23,
   "id": "644a274c",
   "metadata": {},
   "outputs": [],
   "source": [
    "d1=pd.Series.to_frame(pd.Series(kx_test_data))\n",
    "d2=pd.Series.to_frame(pd.Series(ky_test_data))"
   ]
  },
  {
   "cell_type": "code",
   "execution_count": 24,
   "id": "8ba0784f",
   "metadata": {},
   "outputs": [
    {
     "name": "stdout",
     "output_type": "stream",
     "text": [
      "Checking y_test Balancing: Counter({1: 947, 0: 947})\n",
      "Checking y_train Balancing:  Counter({1: 3786, 0: 3786})\n",
      "[0.77887789 0.78811881 0.76287979 0.77014531 0.77014531]\n",
      "---------------------------------------------------------\n",
      "Checking y_test Balancing: Counter({1: 947, 0: 946})\n",
      "Checking y_train Balancing:  Counter({0: 3787, 1: 3786})\n",
      "[0.78679868 0.77227723 0.75445545 0.75957728 0.76089828]\n",
      "---------------------------------------------------------\n",
      "Checking y_test Balancing: Counter({1: 947, 0: 946})\n",
      "Checking y_train Balancing:  Counter({0: 3787, 1: 3786})\n",
      "[0.7669967  0.78349835 0.78151815 0.76486129 0.74900925]\n",
      "---------------------------------------------------------\n",
      "Checking y_test Balancing: Counter({0: 947, 1: 946})\n",
      "Checking y_train Balancing:  Counter({1: 3787, 0: 3786})\n",
      "[0.75907591 0.7650165  0.77689769 0.77014531 0.78335535]\n",
      "---------------------------------------------------------\n",
      "Checking y_test Balancing: Counter({0: 947, 1: 946})\n",
      "Checking y_train Balancing:  Counter({1: 3787, 0: 3786})\n",
      "[0.75709571 0.7650165  0.77425743 0.78005284 0.77807133]\n",
      "---------------------------------------------------------\n"
     ]
    }
   ],
   "source": [
    "for train_data,test_data in skf.split(x_data,y_data):\n",
    "    x_train,x_test=x_data[train_data],x_data[test_data]\n",
    "    y_train,y_test=y_data[train_data],y_data[test_data]\n",
    "    scores=cross_val_score(l1,x_train,y_train,cv=skf)\n",
    "    y_pred=cross_val_predict(l1,x_test,y_test,cv=skf)\n",
    "    print(\"Checking y_test Balancing:\",Counter(y_test))\n",
    "    print(\"Checking y_train Balancing: \",Counter(y_train))\n",
    "    print(scores)\n",
    "    print(\"---------------------------------------------------------\")"
   ]
  },
  {
   "cell_type": "code",
   "execution_count": 25,
   "id": "7033220b",
   "metadata": {},
   "outputs": [
    {
     "data": {
      "text/plain": [
       "5"
      ]
     },
     "execution_count": 25,
     "metadata": {},
     "output_type": "execute_result"
    }
   ],
   "source": [
    "from sklearn.model_selection import ShuffleSplit\n",
    "sf=ShuffleSplit(n_splits=5,test_size=0.2,random_state=0)\n",
    "sf.get_n_splits(x_data,y_data)"
   ]
  },
  {
   "cell_type": "code",
   "execution_count": 26,
   "id": "71d7b49a",
   "metadata": {},
   "outputs": [
    {
     "name": "stdout",
     "output_type": "stream",
     "text": [
      "Checking y_test Balancing: Counter({1: 950, 0: 944})\n",
      "Checking y_train Balancing: Counter({0: 3789, 1: 3783})\n",
      "77.32013201320133\n",
      "[0.77359736 0.77755776 0.78151815 0.7689769  0.76435644]\n",
      "---------------------------\n",
      "Checking y_test Balancing: Counter({0: 954, 1: 940})\n",
      "Checking y_train Balancing: Counter({1: 3793, 0: 3779})\n",
      "75.26072607260727\n",
      "[0.77623762 0.74653465 0.75577558 0.74983498 0.73465347]\n",
      "---------------------------\n",
      "Checking y_test Balancing: Counter({0: 962, 1: 932})\n",
      "Checking y_train Balancing: Counter({1: 3801, 0: 3771})\n",
      "77.95379537953797\n",
      "[0.76963696 0.77623762 0.79075908 0.77821782 0.78283828]\n",
      "---------------------------\n",
      "Checking y_test Balancing: Counter({0: 988, 1: 906})\n",
      "Checking y_train Balancing: Counter({1: 3827, 0: 3745})\n",
      "78.57425742574257\n",
      "[0.78481848 0.78943894 0.78547855 0.78085809 0.78811881]\n",
      "---------------------------\n",
      "Checking y_test Balancing: Counter({0: 968, 1: 926})\n",
      "Checking y_train Balancing: Counter({1: 3807, 0: 3765})\n",
      "77.53135313531352\n",
      "[0.77293729 0.76765677 0.79405941 0.76831683 0.77359736]\n",
      "---------------------------\n"
     ]
    }
   ],
   "source": [
    "for train_data,test_data in sf.split(x_data,y_data):\n",
    "    x_train,x_test=x_data[train_data],x_data[test_data]\n",
    "    y_train,y_test=y_data[train_data],y_data[test_data]\n",
    "    scores=cross_val_score(l1,x_train,y_train,cv=sf)\n",
    "    y_pred=cross_val_predict(l1,x_test,y_test,cv=skf)\n",
    "    print(\"Checking y_test Balancing:\",Counter(y_test))\n",
    "    print(\"Checking y_train Balancing:\",Counter(y_train))\n",
    "    print(np.mean(scores)*100)\n",
    "    print(scores)\n",
    "    print(\"---------------------------\")"
   ]
  },
  {
   "cell_type": "code",
   "execution_count": 27,
   "id": "751c89ca",
   "metadata": {},
   "outputs": [
    {
     "data": {
      "text/plain": [
       "<generator object _BaseKFold.split at 0x0000022A9A0AC120>"
      ]
     },
     "execution_count": 27,
     "metadata": {},
     "output_type": "execute_result"
    }
   ],
   "source": [
    "kf.split(x)"
   ]
  },
  {
   "cell_type": "code",
   "execution_count": 28,
   "id": "6a8190d3",
   "metadata": {},
   "outputs": [
    {
     "data": {
      "text/plain": [
       "<generator object _BaseKFold.split at 0x0000022A9A0AC7B0>"
      ]
     },
     "execution_count": 28,
     "metadata": {},
     "output_type": "execute_result"
    }
   ],
   "source": [
    "skf.split(x,y)"
   ]
  },
  {
   "cell_type": "code",
   "execution_count": null,
   "id": "075e3823",
   "metadata": {},
   "outputs": [],
   "source": []
  }
 ],
 "metadata": {
  "kernelspec": {
   "display_name": "Python 3 (ipykernel)",
   "language": "python",
   "name": "python3"
  },
  "language_info": {
   "codemirror_mode": {
    "name": "ipython",
    "version": 3
   },
   "file_extension": ".py",
   "mimetype": "text/x-python",
   "name": "python",
   "nbconvert_exporter": "python",
   "pygments_lexer": "ipython3",
   "version": "3.9.7"
  }
 },
 "nbformat": 4,
 "nbformat_minor": 5
}
